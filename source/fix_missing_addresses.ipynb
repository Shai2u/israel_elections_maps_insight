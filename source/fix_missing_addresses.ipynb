{
 "cells": [
  {
   "cell_type": "code",
   "execution_count": 34,
   "metadata": {},
   "outputs": [],
   "source": [
    "import pandas as pd\n",
    "import geopandas as gpd\n",
    "import numpy as np"
   ]
  },
  {
   "cell_type": "code",
   "execution_count": 40,
   "metadata": {},
   "outputs": [],
   "source": [
    "unique_kalpiot = pd.read_csv('unique_kalpiot_basic_google_geocoding.csv', index_col=0)\n",
    "stats = gpd.read_file('data/ezorim_statistiim_2022.gdb') # taken from https://www.cbs.gov.il/he/mediarelease/Pages/2022/שכבת-אזורים-סטטיסטיים-2022.aspx\n",
    "stats = stats[['SEMEL_YISHUV', 'SHEM_YISHUV', 'SHEM_YISHUV_ENGLISH','geometry']]"
   ]
  },
  {
   "cell_type": "code",
   "execution_count": 42,
   "metadata": {},
   "outputs": [
    {
     "data": {
      "text/html": [
       "<div>\n",
       "<style scoped>\n",
       "    .dataframe tbody tr th:only-of-type {\n",
       "        vertical-align: middle;\n",
       "    }\n",
       "\n",
       "    .dataframe tbody tr th {\n",
       "        vertical-align: top;\n",
       "    }\n",
       "\n",
       "    .dataframe thead th {\n",
       "        text-align: right;\n",
       "    }\n",
       "</style>\n",
       "<table border=\"1\" class=\"dataframe\">\n",
       "  <thead>\n",
       "    <tr style=\"text-align: right;\">\n",
       "      <th></th>\n",
       "      <th>SEMEL_YISHUV</th>\n",
       "      <th>SHEM_YISHUV</th>\n",
       "      <th>SHEM_YISHUV_ENGLISH</th>\n",
       "      <th>geometry</th>\n",
       "    </tr>\n",
       "  </thead>\n",
       "  <tbody>\n",
       "    <tr>\n",
       "      <th>0</th>\n",
       "      <td>7</td>\n",
       "      <td>שחר</td>\n",
       "      <td>SHAHAR</td>\n",
       "      <td>MULTIPOLYGON (((173548.330 613473.170, 173542....</td>\n",
       "    </tr>\n",
       "    <tr>\n",
       "      <th>1</th>\n",
       "      <td>10</td>\n",
       "      <td>תירוש</td>\n",
       "      <td>TIROSH</td>\n",
       "      <td>MULTIPOLYGON (((188996.621 628298.350, 188991....</td>\n",
       "    </tr>\n",
       "    <tr>\n",
       "      <th>2</th>\n",
       "      <td>11</td>\n",
       "      <td>ניר ח\"ן</td>\n",
       "      <td>NIR HEN</td>\n",
       "      <td>MULTIPOLYGON (((173548.330 613473.170, 173355....</td>\n",
       "    </tr>\n",
       "    <tr>\n",
       "      <th>3</th>\n",
       "      <td>13</td>\n",
       "      <td>חצבה</td>\n",
       "      <td>HAZEVA</td>\n",
       "      <td>MULTIPOLYGON (((227210.799 520854.319, 227112....</td>\n",
       "    </tr>\n",
       "    <tr>\n",
       "      <th>4</th>\n",
       "      <td>15</td>\n",
       "      <td>נועם</td>\n",
       "      <td>NO'AM</td>\n",
       "      <td>MULTIPOLYGON (((179921.660 609396.480, 180280....</td>\n",
       "    </tr>\n",
       "  </tbody>\n",
       "</table>\n",
       "</div>"
      ],
      "text/plain": [
       "   SEMEL_YISHUV SHEM_YISHUV SHEM_YISHUV_ENGLISH  \\\n",
       "0             7         שחר              SHAHAR   \n",
       "1            10       תירוש              TIROSH   \n",
       "2            11     ניר ח\"ן             NIR HEN   \n",
       "3            13        חצבה              HAZEVA   \n",
       "4            15        נועם               NO'AM   \n",
       "\n",
       "                                            geometry  \n",
       "0  MULTIPOLYGON (((173548.330 613473.170, 173542....  \n",
       "1  MULTIPOLYGON (((188996.621 628298.350, 188991....  \n",
       "2  MULTIPOLYGON (((173548.330 613473.170, 173355....  \n",
       "3  MULTIPOLYGON (((227210.799 520854.319, 227112....  \n",
       "4  MULTIPOLYGON (((179921.660 609396.480, 180280....  "
      ]
     },
     "execution_count": 42,
     "metadata": {},
     "output_type": "execute_result"
    }
   ],
   "source": [
    "# merge statistical areas by setl code\n",
    "stats.head()"
   ]
  },
  {
   "cell_type": "code",
   "execution_count": 45,
   "metadata": {},
   "outputs": [],
   "source": [
    "# dissolve by Yishuv\n",
    "yishuv = stats.dissolve(by='SEMEL_YISHUV').reset_index()"
   ]
  },
  {
   "cell_type": "code",
   "execution_count": 48,
   "metadata": {},
   "outputs": [],
   "source": [
    "# convert to centroid\n",
    "yishuv['geometry'] = yishuv['geometry'].centroid"
   ]
  },
  {
   "cell_type": "code",
   "execution_count": 51,
   "metadata": {},
   "outputs": [],
   "source": [
    "# ballpark transfomration\n",
    "yishuv_4326 = yishuv.to_crs(4326)"
   ]
  },
  {
   "cell_type": "code",
   "execution_count": 54,
   "metadata": {},
   "outputs": [
    {
     "data": {
      "text/html": [
       "<div>\n",
       "<style scoped>\n",
       "    .dataframe tbody tr th:only-of-type {\n",
       "        vertical-align: middle;\n",
       "    }\n",
       "\n",
       "    .dataframe tbody tr th {\n",
       "        vertical-align: top;\n",
       "    }\n",
       "\n",
       "    .dataframe thead th {\n",
       "        text-align: right;\n",
       "    }\n",
       "</style>\n",
       "<table border=\"1\" class=\"dataframe\">\n",
       "  <thead>\n",
       "    <tr style=\"text-align: right;\">\n",
       "      <th></th>\n",
       "      <th>SEMEL_YISHUV</th>\n",
       "      <th>geometry</th>\n",
       "      <th>SHEM_YISHUV</th>\n",
       "      <th>SHEM_YISHUV_ENGLISH</th>\n",
       "    </tr>\n",
       "  </thead>\n",
       "  <tbody>\n",
       "    <tr>\n",
       "      <th>0</th>\n",
       "      <td>7</td>\n",
       "      <td>POINT (34.72528 31.61955)</td>\n",
       "      <td>שחר</td>\n",
       "      <td>SHAHAR</td>\n",
       "    </tr>\n",
       "    <tr>\n",
       "      <th>1</th>\n",
       "      <td>10</td>\n",
       "      <td>POINT (34.88656 31.75073)</td>\n",
       "      <td>תירוש</td>\n",
       "      <td>TIROSH</td>\n",
       "    </tr>\n",
       "    <tr>\n",
       "      <th>2</th>\n",
       "      <td>11</td>\n",
       "      <td>POINT (34.71456 31.61032)</td>\n",
       "      <td>ניר ח\"ן</td>\n",
       "      <td>NIR HEN</td>\n",
       "    </tr>\n",
       "    <tr>\n",
       "      <th>3</th>\n",
       "      <td>13</td>\n",
       "      <td>POINT (35.28064 30.77000)</td>\n",
       "      <td>חצבה</td>\n",
       "      <td>HAZEVA</td>\n",
       "    </tr>\n",
       "    <tr>\n",
       "      <th>4</th>\n",
       "      <td>15</td>\n",
       "      <td>POINT (34.78884 31.56892)</td>\n",
       "      <td>נועם</td>\n",
       "      <td>NO'AM</td>\n",
       "    </tr>\n",
       "  </tbody>\n",
       "</table>\n",
       "</div>"
      ],
      "text/plain": [
       "   SEMEL_YISHUV                   geometry SHEM_YISHUV SHEM_YISHUV_ENGLISH\n",
       "0             7  POINT (34.72528 31.61955)         שחר              SHAHAR\n",
       "1            10  POINT (34.88656 31.75073)       תירוש              TIROSH\n",
       "2            11  POINT (34.71456 31.61032)     ניר ח\"ן             NIR HEN\n",
       "3            13  POINT (35.28064 30.77000)        חצבה              HAZEVA\n",
       "4            15  POINT (34.78884 31.56892)        נועם               NO'AM"
      ]
     },
     "execution_count": 54,
     "metadata": {},
     "output_type": "execute_result"
    }
   ],
   "source": [
    "yishuv_4326.head()"
   ]
  },
  {
   "cell_type": "code",
   "execution_count": 56,
   "metadata": {},
   "outputs": [],
   "source": [
    "# dict yishuv_centroid\n",
    "yeshuv_centroid = dict(zip(yishuv_4326['SEMEL_YISHUV'],yishuv_4326['geometry']))"
   ]
  },
  {
   "cell_type": "code",
   "execution_count": 59,
   "metadata": {},
   "outputs": [
    {
     "data": {
      "text/plain": [
       "34.72528461838241"
      ]
     },
     "execution_count": 59,
     "metadata": {},
     "output_type": "execute_result"
    }
   ],
   "source": [
    "yeshuv_centroid[7].x"
   ]
  },
  {
   "cell_type": "code",
   "execution_count": null,
   "metadata": {},
   "outputs": [],
   "source": []
  },
  {
   "cell_type": "code",
   "execution_count": 30,
   "metadata": {},
   "outputs": [
    {
     "data": {
      "text/html": [
       "<div>\n",
       "<style scoped>\n",
       "    .dataframe tbody tr th:only-of-type {\n",
       "        vertical-align: middle;\n",
       "    }\n",
       "\n",
       "    .dataframe tbody tr th {\n",
       "        vertical-align: top;\n",
       "    }\n",
       "\n",
       "    .dataframe thead th {\n",
       "        text-align: right;\n",
       "    }\n",
       "</style>\n",
       "<table border=\"1\" class=\"dataframe\">\n",
       "  <thead>\n",
       "    <tr style=\"text-align: right;\">\n",
       "      <th></th>\n",
       "      <th>town_symbol</th>\n",
       "      <th>town_name</th>\n",
       "      <th>location_symbol</th>\n",
       "      <th>ballot_address</th>\n",
       "      <th>ballot_location</th>\n",
       "      <th>bldg_nubmer</th>\n",
       "      <th>street</th>\n",
       "      <th>geocode_address</th>\n",
       "      <th>Latitude</th>\n",
       "      <th>Longitude</th>\n",
       "    </tr>\n",
       "  </thead>\n",
       "  <tbody>\n",
       "    <tr>\n",
       "      <th>1742</th>\n",
       "      <td>146</td>\n",
       "      <td>דבורה</td>\n",
       "      <td>1</td>\n",
       "      <td>דבורה</td>\n",
       "      <td>מזכירות</td>\n",
       "      <td>NaN</td>\n",
       "      <td>דבורה</td>\n",
       "      <td>דבורה, דבורה</td>\n",
       "      <td>NaN</td>\n",
       "      <td>NaN</td>\n",
       "    </tr>\n",
       "    <tr>\n",
       "      <th>1781</th>\n",
       "      <td>1110</td>\n",
       "      <td>חבר</td>\n",
       "      <td>1</td>\n",
       "      <td>חבר</td>\n",
       "      <td>מזכירות</td>\n",
       "      <td>NaN</td>\n",
       "      <td>חבר</td>\n",
       "      <td>חבר, חבר</td>\n",
       "      <td>NaN</td>\n",
       "      <td>NaN</td>\n",
       "    </tr>\n",
       "    <tr>\n",
       "      <th>1973</th>\n",
       "      <td>1413</td>\n",
       "      <td>מחנה יהודית</td>\n",
       "      <td>1</td>\n",
       "      <td>מחנה יהודית</td>\n",
       "      <td>מועדון חוגים</td>\n",
       "      <td>NaN</td>\n",
       "      <td>מחנה יהודית</td>\n",
       "      <td>מחנה יהודית, מחנה יהודית</td>\n",
       "      <td>NaN</td>\n",
       "      <td>NaN</td>\n",
       "    </tr>\n",
       "    <tr>\n",
       "      <th>2186</th>\n",
       "      <td>526</td>\n",
       "      <td>סולם</td>\n",
       "      <td>1</td>\n",
       "      <td>סולם</td>\n",
       "      <td>בי\"ס יסודי ממלכתי</td>\n",
       "      <td>NaN</td>\n",
       "      <td>סולם</td>\n",
       "      <td>סולם, סולם</td>\n",
       "      <td>NaN</td>\n",
       "      <td>NaN</td>\n",
       "    </tr>\n",
       "    <tr>\n",
       "      <th>2452</th>\n",
       "      <td>1208</td>\n",
       "      <td>הילה</td>\n",
       "      <td>1</td>\n",
       "      <td>הילה</td>\n",
       "      <td>מזכירות</td>\n",
       "      <td>NaN</td>\n",
       "      <td>הילה</td>\n",
       "      <td>הילה, הילה</td>\n",
       "      <td>NaN</td>\n",
       "      <td>NaN</td>\n",
       "    </tr>\n",
       "  </tbody>\n",
       "</table>\n",
       "</div>"
      ],
      "text/plain": [
       "      town_symbol    town_name  location_symbol ballot_address  \\\n",
       "1742          146        דבורה                1          דבורה   \n",
       "1781         1110          חבר                1            חבר   \n",
       "1973         1413  מחנה יהודית                1    מחנה יהודית   \n",
       "2186          526         סולם                1           סולם   \n",
       "2452         1208         הילה                1           הילה   \n",
       "\n",
       "        ballot_location bldg_nubmer       street           geocode_address  \\\n",
       "1742            מזכירות         NaN        דבורה              דבורה, דבורה   \n",
       "1781            מזכירות         NaN          חבר                  חבר, חבר   \n",
       "1973       מועדון חוגים         NaN  מחנה יהודית  מחנה יהודית, מחנה יהודית   \n",
       "2186  בי\"ס יסודי ממלכתי         NaN         סולם                סולם, סולם   \n",
       "2452            מזכירות         NaN         הילה                הילה, הילה   \n",
       "\n",
       "      Latitude  Longitude  \n",
       "1742       NaN        NaN  \n",
       "1781       NaN        NaN  \n",
       "1973       NaN        NaN  \n",
       "2186       NaN        NaN  \n",
       "2452       NaN        NaN  "
      ]
     },
     "execution_count": 30,
     "metadata": {},
     "output_type": "execute_result"
    }
   ],
   "source": [
    "# Missing Lat\n",
    "unique_kalpiot.loc[unique_kalpiot['Latitude'].isna()].head()"
   ]
  },
  {
   "cell_type": "code",
   "execution_count": 138,
   "metadata": {},
   "outputs": [],
   "source": [
    "i = 10548\n",
    "unique_kalpiot.loc[i, 'Latitude']  = 31.32432\n",
    "unique_kalpiot.loc[i, 'Longitude'] = 35.02677\n"
   ]
  },
  {
   "cell_type": "code",
   "execution_count": 139,
   "metadata": {},
   "outputs": [
    {
     "data": {
      "text/html": [
       "<div>\n",
       "<style scoped>\n",
       "    .dataframe tbody tr th:only-of-type {\n",
       "        vertical-align: middle;\n",
       "    }\n",
       "\n",
       "    .dataframe tbody tr th {\n",
       "        vertical-align: top;\n",
       "    }\n",
       "\n",
       "    .dataframe thead th {\n",
       "        text-align: right;\n",
       "    }\n",
       "</style>\n",
       "<table border=\"1\" class=\"dataframe\">\n",
       "  <thead>\n",
       "    <tr style=\"text-align: right;\">\n",
       "      <th></th>\n",
       "      <th>town_symbol</th>\n",
       "      <th>town_name</th>\n",
       "      <th>location_symbol</th>\n",
       "      <th>ballot_address</th>\n",
       "      <th>ballot_location</th>\n",
       "      <th>bldg_nubmer</th>\n",
       "      <th>street</th>\n",
       "      <th>geocode_address</th>\n",
       "      <th>Latitude</th>\n",
       "      <th>Longitude</th>\n",
       "    </tr>\n",
       "  </thead>\n",
       "  <tbody>\n",
       "  </tbody>\n",
       "</table>\n",
       "</div>"
      ],
      "text/plain": [
       "Empty DataFrame\n",
       "Columns: [town_symbol, town_name, location_symbol, ballot_address, ballot_location, bldg_nubmer, street, geocode_address, Latitude, Longitude]\n",
       "Index: []"
      ]
     },
     "execution_count": 139,
     "metadata": {},
     "output_type": "execute_result"
    }
   ],
   "source": [
    "unique_kalpiot.loc[unique_kalpiot['Latitude'].isna()]"
   ]
  },
  {
   "cell_type": "code",
   "execution_count": 140,
   "metadata": {},
   "outputs": [
    {
     "data": {
      "text/plain": [
       "0"
      ]
     },
     "execution_count": 140,
     "metadata": {},
     "output_type": "execute_result"
    }
   ],
   "source": [
    "len(unique_kalpiot.loc[unique_kalpiot['Latitude'].isna()])"
   ]
  },
  {
   "cell_type": "code",
   "execution_count": 66,
   "metadata": {},
   "outputs": [],
   "source": [
    "missing_town_symbols = unique_kalpiot.loc[unique_kalpiot['Latitude'].isna(), 'town_symbol'].to_list()"
   ]
  },
  {
   "cell_type": "code",
   "execution_count": 70,
   "metadata": {},
   "outputs": [
    {
     "data": {
      "text/plain": [
       "15"
      ]
     },
     "execution_count": 70,
     "metadata": {},
     "output_type": "execute_result"
    }
   ],
   "source": [
    "len(yishuv_4326[yishuv_4326['SEMEL_YISHUV'].isin(missing_town_symbols)])"
   ]
  },
  {
   "cell_type": "code",
   "execution_count": 79,
   "metadata": {},
   "outputs": [
    {
     "data": {
      "text/plain": [
       "nan"
      ]
     },
     "execution_count": 79,
     "metadata": {},
     "output_type": "execute_result"
    }
   ],
   "source": [
    "np.nan"
   ]
  },
  {
   "cell_type": "code",
   "execution_count": 75,
   "metadata": {},
   "outputs": [
    {
     "data": {
      "text/plain": [
       "'Nope'"
      ]
     },
     "execution_count": 75,
     "metadata": {},
     "output_type": "execute_result"
    }
   ],
   "source": [
    "yeshuv_centroid.get(1,'Nope')"
   ]
  },
  {
   "cell_type": "code",
   "execution_count": 83,
   "metadata": {},
   "outputs": [],
   "source": [
    "unique_kalpiot['point'] = unique_kalpiot.loc[unique_kalpiot['Latitude'].isna(),'town_symbol'].apply(lambda p: yeshuv_centroid.get(p, np.nan))"
   ]
  },
  {
   "cell_type": "code",
   "execution_count": 89,
   "metadata": {},
   "outputs": [],
   "source": [
    "unique_kalpiot.loc[unique_kalpiot['point'].notna(), 'Longitude'] = unique_kalpiot.loc[unique_kalpiot['point'].notna(), 'point'].apply(lambda p: p.x)\n",
    "unique_kalpiot.loc[unique_kalpiot['point'].notna(), 'Latitude'] = unique_kalpiot.loc[unique_kalpiot['point'].notna(), 'point'].apply(lambda p: p.y)"
   ]
  },
  {
   "cell_type": "code",
   "execution_count": 93,
   "metadata": {},
   "outputs": [],
   "source": [
    "unique_kalpiot = unique_kalpiot.drop(columns='point')"
   ]
  },
  {
   "cell_type": "code",
   "execution_count": 149,
   "metadata": {},
   "outputs": [
    {
     "name": "stderr",
     "output_type": "stream",
     "text": [
      "/var/folders/pl/dfcs60nn16qdw7bltcc09p3h0000gn/T/ipykernel_1431/1247935057.py:2: SettingWithCopyWarning: \n",
      "A value is trying to be set on a copy of a slice from a DataFrame.\n",
      "Try using .loc[row_indexer,col_indexer] = value instead\n",
      "\n",
      "See the caveats in the documentation: https://pandas.pydata.org/pandas-docs/stable/user_guide/indexing.html#returning-a-view-versus-a-copy\n",
      "  unique_kalpiot['town_symbol'] = unique_kalpiot['town_symbol'].astype(int)\n"
     ]
    }
   ],
   "source": [
    "unique_kalpiot = unique_kalpiot.loc[unique_kalpiot['town_symbol'].notna()]\n",
    "unique_kalpiot['town_symbol'] = unique_kalpiot['town_symbol'].astype(int)"
   ]
  },
  {
   "cell_type": "code",
   "execution_count": 153,
   "metadata": {},
   "outputs": [
    {
     "name": "stderr",
     "output_type": "stream",
     "text": [
      "/var/folders/pl/dfcs60nn16qdw7bltcc09p3h0000gn/T/ipykernel_1431/3310949637.py:1: SettingWithCopyWarning: \n",
      "A value is trying to be set on a copy of a slice from a DataFrame.\n",
      "Try using .loc[row_indexer,col_indexer] = value instead\n",
      "\n",
      "See the caveats in the documentation: https://pandas.pydata.org/pandas-docs/stable/user_guide/indexing.html#returning-a-view-versus-a-copy\n",
      "  unique_kalpiot['location_symbol'] = unique_kalpiot['location_symbol'].astype(int)\n"
     ]
    }
   ],
   "source": [
    "unique_kalpiot['location_symbol'] = unique_kalpiot['location_symbol'].astype(int)"
   ]
  },
  {
   "cell_type": "code",
   "execution_count": 154,
   "metadata": {},
   "outputs": [],
   "source": [
    "unique_kalpiot.to_csv('unique_kalpiot_basic_google_geocoding.csv')"
   ]
  },
  {
   "cell_type": "code",
   "execution_count": 123,
   "metadata": {},
   "outputs": [
    {
     "data": {
      "text/html": [
       "<div>\n",
       "<style scoped>\n",
       "    .dataframe tbody tr th:only-of-type {\n",
       "        vertical-align: middle;\n",
       "    }\n",
       "\n",
       "    .dataframe tbody tr th {\n",
       "        vertical-align: top;\n",
       "    }\n",
       "\n",
       "    .dataframe thead th {\n",
       "        text-align: right;\n",
       "    }\n",
       "</style>\n",
       "<table border=\"1\" class=\"dataframe\">\n",
       "  <thead>\n",
       "    <tr style=\"text-align: right;\">\n",
       "      <th></th>\n",
       "      <th>SEMEL_YISHUV</th>\n",
       "      <th>geometry</th>\n",
       "      <th>SHEM_YISHUV</th>\n",
       "      <th>SHEM_YISHUV_ENGLISH</th>\n",
       "    </tr>\n",
       "  </thead>\n",
       "  <tbody>\n",
       "  </tbody>\n",
       "</table>\n",
       "</div>"
      ],
      "text/plain": [
       "Empty GeoDataFrame\n",
       "Columns: [SEMEL_YISHUV, geometry, SHEM_YISHUV, SHEM_YISHUV_ENGLISH]\n",
       "Index: []"
      ]
     },
     "execution_count": 123,
     "metadata": {},
     "output_type": "execute_result"
    }
   ],
   "source": [
    "yishuv_4326[yishuv_4326['SHEM_YISHUV'].apply(lambda p: 'עזאזמה' in p)]"
   ]
  },
  {
   "cell_type": "code",
   "execution_count": null,
   "metadata": {},
   "outputs": [],
   "source": []
  }
 ],
 "metadata": {
  "kernelspec": {
   "display_name": "GeoEnivronment",
   "language": "python",
   "name": "python3"
  },
  "language_info": {
   "codemirror_mode": {
    "name": "ipython",
    "version": 3
   },
   "file_extension": ".py",
   "mimetype": "text/x-python",
   "name": "python",
   "nbconvert_exporter": "python",
   "pygments_lexer": "ipython3",
   "version": "3.10.11"
  },
  "orig_nbformat": 4
 },
 "nbformat": 4,
 "nbformat_minor": 2
}
